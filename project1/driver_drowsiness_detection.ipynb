{
 "cells": [
  {
   "cell_type": "markdown",
   "id": "14622a13-55c9-496b-9fe5-e2c20d11c028",
   "metadata": {},
   "source": [
    "## Import"
   ]
  },
  {
   "cell_type": "code",
   "execution_count": 17,
   "id": "87ed24c7-ba15-404d-b740-c2a5b2a9eac2",
   "metadata": {},
   "outputs": [],
   "source": [
    "import torch\n",
    "import torch.nn as nn\n",
    "import numpy as np\n",
    "import pandas as pd\n",
    "import time\n",
    "import os\n",
    "import matplotlib.pyplot as plt\n",
    "from datetime import datetime\n",
    "\n",
    "from sklearn.model_selection import train_test_split\n",
    "from sklearn.metrics import classification_report\n",
    "from torch.utils.data import DataLoader, TensorDataset\n",
    "\n",
    "from train import fit, test_multi_classification\n",
    "from utils import plot_fit_result\n",
    "from driver_monitor_model import DriverMonitorModel\n",
    "from data_processing import generate_csv, create_sq_data, split_scenarios, create_df_fn\n",
    "from metrics import plot_confusion_matrix"
   ]
  },
  {
   "cell_type": "markdown",
   "id": "7509905e-f11a-4a73-ad63-b2c35ab0059c",
   "metadata": {},
   "source": [
    "## Data 전처리"
   ]
  },
  {
   "cell_type": "code",
   "execution_count": 2,
   "id": "9cc2ccce-45b8-42df-9e72-4c4cfdff5b3c",
   "metadata": {
    "scrolled": true
   },
   "outputs": [
    {
     "name": "stdout",
     "output_type": "stream",
     "text": [
      ">>>>>>>>>>>>>>>>>>>>>모든 이미지 인식에 성공한 normal[0] scenario 폴더 수 : 290개\n",
      ">>>>>>>>>>>>>>>>>>>>>모든 이미지 인식에 성공한 little drowsy[1] scenario 폴더 수 : 290개\n",
      ">>>>>>>>>>>>>>>>>>>>>모든 이미지 인식에 성공한 drowsy[2] scenario 폴더 수 : 290개\n",
      "CSV 파일 생성 완료.\n"
     ]
    }
   ],
   "source": [
    "# 예시 디렉토리 경로 설정\n",
    "dirname = r\"C:\\classes\\4th deeplearning project\\datsets1\\Training\\keypoints\"\n",
    "\n",
    "# 이미지 좌표 추출, 시나리오 구분, 라벨링, 클래스별 CSV 파일 생성\n",
    "generate_csv(dirname, num_sample = 290) "
   ]
  },
  {
   "cell_type": "code",
   "execution_count": 3,
   "id": "3ff0b7bb-7576-40bb-8e83-daf2cb7a16e5",
   "metadata": {},
   "outputs": [
    {
     "name": "stdout",
     "output_type": "stream",
     "text": [
      "클래스별 이미지 개수 : normal 7250 장 || little drowsy- 7250 장 || drowsy - 7250 장\n",
      "======================================================================\n",
      "전체 이미지 개수 : 21750 장\n",
      "======================================================================\n",
      "시퀀셜 데이터 생성 완료\n",
      "data_X.shape : (16531, 5, 136)\n",
      "data_y.shape : (16531,)\n"
     ]
    }
   ],
   "source": [
    "# DataFrame 로드 및 확인 \n",
    "df_0_normal = pd.read_csv(\"scenario_df/scn_0_normal.csv\")\n",
    "df_1_little_drowsy = pd.read_csv(\"scenario_df/scn_1_little drowsy.csv\")\n",
    "df_2_drowsy = pd.read_csv(\"scenario_df/scn_2_drowsy.csv\")\n",
    "print(f\"클래스별 이미지 개수 : normal {len(df_0_normal)} 장 || little drowsy- {len(df_1_little_drowsy)} 장 || drowsy - {len(df_2_drowsy)} 장\")\n",
    "print(\"=\"*70)\n",
    "\n",
    "# CSV 파일 로드 및 데이터 프레임 생성\n",
    "# drowsy_scn, yawning_scn, phone_scn, smoke_scn, normal_scn = split_scenarios(dirname)\n",
    "combined_df = pd.concat([\n",
    "    df_0_normal,\n",
    "    df_1_little_drowsy,\n",
    "    df_2_drowsy\n",
    "], ignore_index=True)\n",
    "print(f\"전체 이미지 개수 : {len(combined_df)} 장\")\n",
    "print(\"=\"*70)\n",
    "\n",
    "# 데이터 프레임을 통한 sequential 데이터 생성\n",
    "data_X, data_y = create_sq_data(combined_df, time_steps=5)\n",
    "print(\"시퀀셜 데이터 생성 완료\")\n",
    "print(f\"data_X.shape : {data_X.shape}\")\n",
    "print(f\"data_y.shape : {data_y.shape}\")"
   ]
  },
  {
   "cell_type": "markdown",
   "id": "bd74ecd6-3bfa-44c8-a6bb-9dc4a23d8fcd",
   "metadata": {},
   "source": [
    "## 모델 학습"
   ]
  },
  {
   "cell_type": "code",
   "execution_count": 5,
   "id": "6cb943b2-b2fd-4391-984c-2a158e4a871d",
   "metadata": {
    "scrolled": true
   },
   "outputs": [],
   "source": [
    "# Train/Validation/Test split\n",
    "X_train, X_temp, y_train, y_temp = train_test_split(data_X, data_y, test_size = 0.2, random_state = 0, stratify = data_y)\n",
    "X_valid, X_test, y_valid, y_test = train_test_split(X_temp, y_temp,test_size = 0.5, random_state = 0, stratify = y_temp)\n",
    "\n",
    "# 정규화 (trainset의 평균과 표준편차 이용)\n",
    "# X_train 정규화\n",
    "X_train_mean = np.mean(X_train, axis = 0) \n",
    "X_train_std = np.std(X_train, axis = 0)\n",
    "X_train_scaled =(X_train - X_train_mean)  / X_train_std\n",
    "\n",
    "# X_valid 정규화 \n",
    "X_valid_scaled = (X_valid - X_train_mean) / X_train_std\n",
    "# X_test 정규화\n",
    "X_test_scaled = (X_test - X_train_mean) / X_train_std\n",
    "\n",
    "# Tensor 변환\n",
    "X_train_tensor =torch.tensor(X_train_scaled, dtype= torch.float32)\n",
    "X_valid_tensor = torch.tensor(X_valid_scaled, dtype = torch.float32)\n",
    "X_test_tensor = torch.tensor(X_test_scaled, dtype= torch.float32)\n",
    "y_train_tensor = torch.tensor(y_train, dtype=torch.long)\n",
    "y_valid_tensor = torch.tensor(y_valid, dtype=torch.long)\n",
    "y_test_tensor = torch.tensor(y_test, dtype=torch.long)\n",
    "\n",
    "# Dataset 생성\n",
    "train_set = TensorDataset(X_train_tensor, y_train_tensor)\n",
    "valid_set = TensorDataset(X_valid_tensor, y_valid_tensor)\n",
    "test_set = TensorDataset(X_test_tensor, y_test_tensor)\n",
    "\n",
    "# DataLoader 생성\n",
    "train_loader = DataLoader(train_set, batch_size=64, shuffle=True, drop_last=True)\n",
    "valid_loader = DataLoader(valid_set, batch_size = 32)\n",
    "test_loader = DataLoader(test_set, batch_size = 32)"
   ]
  },
  {
   "cell_type": "code",
   "execution_count": 6,
   "id": "c156cee1-5205-40eb-902e-90829813c6fe",
   "metadata": {},
   "outputs": [
    {
     "data": {
      "text/plain": [
       "(206, 52, 52)"
      ]
     },
     "execution_count": 6,
     "metadata": {},
     "output_type": "execute_result"
    }
   ],
   "source": [
    "# Dataloader 생성 확인, step 수 확인\n",
    "len(train_loader), len(valid_loader), len(test_loader)"
   ]
  },
  {
   "cell_type": "code",
   "execution_count": 7,
   "id": "b6cfa543-8b91-4fb4-a6d1-29b97e268468",
   "metadata": {},
   "outputs": [],
   "source": [
    "# 하이퍼 파라미터\n",
    "EPOCHS = 1000\n",
    "LR = 0.001\n",
    "INPUT_SIZE = 136\n",
    "HIDDEN_SIZE = 5\n",
    "NUM_LAYERS = 2\n",
    "BIDIRECTIONAL = True\n",
    "DROPOUT_RATE = 0.2\n",
    "\n",
    "\n",
    "# 모델 생성\n",
    "model = DriverMonitorModel(\n",
    "    input_size=INPUT_SIZE, hidden_size=HIDDEN_SIZE,\n",
    "    num_layers=NUM_LAYERS, bidirectional=BIDIRECTIONAL, \n",
    "    dropout_rate=DROPOUT_RATE\n",
    ")"
   ]
  },
  {
   "cell_type": "code",
   "execution_count": null,
   "id": "5bdfa74c-2a04-4410-910b-a258bb858a4f",
   "metadata": {},
   "outputs": [],
   "source": [
    "# 모델 학습 준비\n",
    "device = \"cuda\" if torch.cuda.is_available() else \"cpu\"  # GPU 사용을 원하면 'cuda'로 변경\n",
    "model = model.to(device)\n",
    "loss_fn = nn.CrossEntropyLoss()\n",
    "optimizer = torch.optim.Adam(model.parameters(), lr=LR)\n",
    "save_path = \"models/driver_monitor_model.pth\"\n",
    "\n",
    "\n",
    "# 모델 학습\n",
    "train_loss_list, train_accuracy_list, valid_loss_list, valid_accuracy_list = fit(train_loader, valid_loader, model, loss_fn, optimizer, EPOCHS,\n",
    "                                                                                  save_best_model=True, save_model_path=save_path,\n",
    "                                                                                  early_stopping = True, patience=50, device=device,\n",
    "                                                                                  mode='multi', lr_scheduler=None)\n",
    "\n",
    "# 학습이 끝난 후 가장 좋은 모델을 저장합니다\n",
    "torch.save(model.state_dict(), \"models/driver_monitor_model.pth\")\n",
    "\n",
    "# train 결과 폴더 생성\n",
    "output_folder = \"train_results\"\n",
    "os.makedirs(output_folder, exist_ok=True)\n",
    "\n",
    "\n",
    "# 결과 저장\n",
    "timestamp = datetime.now().strftime(\"%Y%m%d_%H%M%S\")\n",
    "unique_filename = f\"training_log_{timestamp}.txt\"\n",
    "output_file = os.path.join(output_folder, unique_filename)\n",
    "\n",
    "params = {\n",
    "    \"EPOCHS\": EPOCHS,\n",
    "    \"LR\": LR,\n",
    "    \"INPUT_SIZE\": INPUT_SIZE,\n",
    "    \"HIDDEN_SIZE\": HIDDEN_SIZE,\n",
    "    \"NUM_LAYERS\": NUM_LAYERS,\n",
    "    \"BIDIRECTIONAL\": BIDIRECTIONAL,\n",
    "    \"DROPOUT_RATE\": DROPOUT_RATE\n",
    "}\n",
    "\n",
    "with open(output_file, \"w\") as f:\n",
    "    f.write(\"Hyperparameters:\\n\")\n",
    "    for key, value in params.items():\n",
    "        f.write(f\"{key}: {value}\\n\")\n",
    "    \n",
    "    f.write(\"\\nTraining and validation results:\\n\")\n",
    "    for epoch in range(EPOCHS):\n",
    "        if epoch % 10 == 0 or epoch == EPOCHS-1:\n",
    "            if epoch < len(train_loss_list):\n",
    "                f.write(f\"Epoch {epoch + 1}:\\n\")\n",
    "                f.write(f\"  Train Loss: {train_loss_list[epoch]}\\n\")\n",
    "                f.write(f\"  Train Accuracy: {train_accuracy_list[epoch]}\\n\")\n",
    "                f.write(f\"  Validation Loss: {valid_loss_list[epoch]}\\n\")\n",
    "                f.write(f\"  Validation Accuracy: {valid_accuracy_list[epoch]}\\n\")\n",
    "\n",
    "# 결과 그래프 저장\n",
    "unique_plot_filename = f\"training_results_{timestamp}.png\"\n",
    "save_path =os.path.join(output_folder, unique_plot_filename)\n",
    "plot_fit_result(train_loss_list, train_accuracy_list, valid_loss_list, valid_accuracy_list, save_path)\n",
    "plt.show()\n",
    "\n",
    "print(\"Training complete. Results saved in:\", output_file)"
   ]
  },
  {
   "cell_type": "markdown",
   "id": "cbb4142c-e435-4cd5-bcaa-567b0c795a08",
   "metadata": {},
   "source": [
    "## 모델 검증"
   ]
  },
  {
   "cell_type": "code",
   "execution_count": 14,
   "id": "23d0df1e-654e-4b2f-ad18-fe679dee2177",
   "metadata": {},
   "outputs": [
    {
     "name": "stdout",
     "output_type": "stream",
     "text": [
      "Test Loss: 0.4016\n",
      "Test Accuracy: 0.8410\n"
     ]
    },
    {
     "data": {
      "image/png": "[encoded data removed]",
      "text/plain": [
       "<Figure size 640x480 with 2 Axes>"
      ]
     },
     "metadata": {},
     "output_type": "display_data"
    },
    {
     "name": "stdout",
     "output_type": "stream",
     "text": [
      "Classification Report:\n",
      "              precision    recall  f1-score   support\n",
      "\n",
      "      normal       0.74      0.86      0.80       552\n",
      "     yawning       0.97      0.91      0.94       551\n",
      "      drowsy       0.83      0.76      0.79       551\n",
      "\n",
      "    accuracy                           0.84      1654\n",
      "   macro avg       0.85      0.84      0.84      1654\n",
      "weighted avg       0.85      0.84      0.84      1654\n",
      "\n"
     ]
    }
   ],
   "source": [
    "# 모델 로드\n",
    "model = DriverMonitorModel(\n",
    "    input_size=136, hidden_size=5,\n",
    "    num_layers=2, bidirectional=True, \n",
    "    dropout_rate=0.2\n",
    ")\n",
    "model.load_state_dict(torch.load(\"models/driver_monitor_model.pth\"))\n",
    "loss_fn = nn.CrossEntropyLoss()\n",
    "\n",
    "#테스트 데이터 평가\n",
    "test_loss, test_accuracy, predictions, true_labels = test_multi_classification(test_loader, model, loss_fn, device=device)\n",
    "\n",
    "# 손실과 정확도 출력\n",
    "print(f\"Test Loss: {test_loss:.4f}\")\n",
    "print(f\"Test Accuracy: {test_accuracy:.4f}\")\n",
    "\n",
    "# Confusion Matrix 출력\n",
    "# 폴더 생성\n",
    "test_output = \"train_results\"\n",
    "os.makedirs(test_output, exist_ok=True)\n",
    "plot_confusion_matrix(true_labels, predictions, test_output,\"Confusion Matrix\")\n",
    "\n",
    "# 분류 보고서 출력\n",
    "print(\"Classification Report:\")\n",
    "print(classification_report(true_labels, predictions, target_names=['normal', 'yawning', 'drowsy']))"
   ]
  },
  {
   "cell_type": "markdown",
   "id": "a1d5d75e-5d35-46f5-8e21-5a8aa474e40a",
   "metadata": {},
   "source": [
    "# 모델 적용 \n",
    "## Webcam으로 실시간 영상 추론"
   ]
  },
  {
   "cell_type": "code",
   "execution_count": 15,
   "id": "f13f8e60-973c-420f-b140-cb8b6f6ccd5b",
   "metadata": {},
   "outputs": [],
   "source": [
    "import cv2\n",
    "import numpy as np\n",
    "import torch\n",
    "import pandas as pd\n",
    "import pickle\n",
    "from PIL import Image, ImageFont\n",
    "import mediapipe as mp\n",
    "from driver_monitor_model import DriverMonitorModel\n",
    "\n",
    "\n",
    "# 모델 로드\n",
    "model = DriverMonitorModel(\n",
    "    input_size=136, hidden_size=5,\n",
    "    num_layers=2, bidirectional=True, \n",
    "    dropout_rate=0.2\n",
    ")\n",
    "\n",
    "model.load_state_dict(torch.load(\"models/driver_monitor_model.pth\"))\n",
    "model.eval()  # 모델을 evaluation 모드로 설정\n",
    "\n",
    "# Mediapipe Face Mesh 모델 설정\n",
    "mp_face_mesh = mp.solutions.face_mesh\n",
    "face_mesh = mp_face_mesh.FaceMesh(\n",
    "    static_image_mode=False,\n",
    "    max_num_faces=1,\n",
    ")\n",
    "\n",
    "# 사용할 얼굴 keypoints 인덱스\n",
    "landmark_points_68 = [162, 234, 93, 58, 172, 136, 149, 148, 152, 377, 378, 365, 397, 288, 323, 454, 389, 71, 63, 105, 66, 107, 336,\n",
    "                      296, 334, 293, 301, 168, 197, 5, 4, 75, 97, 2, 326, 305, 33, 160, 158, 133, 153, 144, 362, 385, 387, 263, 373,\n",
    "                      380, 61, 39, 37, 0, 267, 269, 291, 405, 314, 17, 84, 181, 78, 82, 13, 312, 308, 317, 14, 87]\n",
    "\n",
    "# 클래스 레이블\n",
    "class_names = [\"Normal\", \"Little Drowsy\", \"Drowsy\"]"
   ]
  },
  {
   "cell_type": "code",
   "execution_count": 16,
   "id": "23bb1893-94ce-409e-80f7-9c3a517cefa3",
   "metadata": {},
   "outputs": [],
   "source": [
    "# 비디오 캡처 시작\n",
    "cap = cv2.VideoCapture(0)\n",
    "fps = cap.get(cv2.CAP_PROP_FPS)  # 초당 프레임 수\n",
    "frame_count = 0\n",
    "frame_xy_list = []  # 모든 프레임의 keypoints 누적 리스트\n",
    "pred_class = \"\"\n",
    "proba_max = 0.0\n",
    "\n",
    "while cap.isOpened():\n",
    "    succ, frame = cap.read()  # 프레임 읽기\n",
    "\n",
    "    if succ:\n",
    "        frame = cv2.flip(frame, 1)  # 화면 좌우 반전\n",
    "        image_height, image_width, _ = frame.shape\n",
    "        frame_count += 1\n",
    "\n",
    "        # 얼굴 keypoints 검출\n",
    "        results = face_mesh.process(frame)\n",
    "        \n",
    "        # 얼굴 keypoints 좌표 추출\n",
    "        frame_kp_list = []\n",
    "        if results.multi_face_landmarks:\n",
    "            for idx, landmark in enumerate(results.multi_face_landmarks[0].landmark):\n",
    "                if idx in landmark_points_68:\n",
    "                    x = landmark.x\n",
    "                    y = landmark.y\n",
    "                    cv2.circle(frame, (int(x * image_width), int(y * image_height)), 2, (255, 0, 0), -1)\n",
    "                    frame_kp_list.append((x, y))\n",
    "\n",
    "            # 144 프레임마다 keypoints 데이터 수집\n",
    "            if frame_count % 144 == 0:\n",
    "                frame_xy_list.append(frame_kp_list)\n",
    "                frame_xy_np = np.array(frame_xy_list)\n",
    "                x_df = pd.DataFrame(frame_xy_np[:, :, 0])  # x 좌표\n",
    "                y_df = pd.DataFrame(frame_xy_np[:, :, 1])  # y 좌표\n",
    "                current_df = pd.concat([x_df, y_df], axis=1, ignore_index=True)\n",
    "    \n",
    "            # 최소 5프레임 데이터가 쌓이면 sequence 생성해 예측 수행\n",
    "            if len(frame_xy_list) >= 5:\n",
    "                data_X = current_df.iloc[-5:].values  # 마지막 5프레임 데이터\n",
    "                data_X = (data_X - X_train_mean) / X_train_std  # 학습 데이터 기반으로 정규화\n",
    "                data_X = torch.tensor(data_X, dtype=torch.float32).unsqueeze(dim=0)\n",
    "                \n",
    "                with torch.no_grad():\n",
    "                    pred = model(data_X)\n",
    "                    proba = torch.softmax(pred, dim=1)\n",
    "                    proba_max, proba_idx = proba.max(dim=1)\n",
    "                    pred_class = class_names[proba_idx.item()]\n",
    "    \n",
    "            # 화면에 예측 결과 표시\n",
    "            if pred_class: # 처음 720초 (144*5동안은 detecting 표시)\n",
    "                cv2.putText(frame, f\"{pred_class} - {proba_max.item():.2f}%\", (10, 30),\n",
    "                            cv2.FONT_HERSHEY_SIMPLEX, 1, (0, 0, 0), 2, cv2.LINE_AA)\n",
    "            else: \n",
    "                cv2.putText(frame, \"Detecting...\", (10,30), cv2.FONT_HERSHEY_SIMPLEX, 1,(0,0,0),2,lineType=cv2.LINE_AA) # 영상 위에 그리기(프레임 단위로  새로운 값)\n",
    "\n",
    "\n",
    "        # 화면에 프레임 표시\n",
    "        cv2.imshow(\"Frame\", frame)\n",
    "    \n",
    "        # ESC 키를 누르면 종료\n",
    "        if cv2.waitKey(1) == 27:\n",
    "            break\n",
    "\n",
    "    else:\n",
    "        break\n",
    "\n",
    "# 비디오 캡처 종료\n",
    "cap.release()\n",
    "cv2.destroyAllWindows()"
   ]
  },
  {
   "cell_type": "code",
   "execution_count": null,
   "id": "e971be9c-6976-47a0-ae02-f71284eb64f1",
   "metadata": {},
   "outputs": [],
   "source": []
  }
 ],
 "metadata": {
  "kernelspec": {
   "display_name": "Python 3 (ipykernel)",
   "language": "python",
   "name": "python3"
  },
  "language_info": {
   "codemirror_mode": {
    "name": "ipython",
    "version": 3
   },
   "file_extension": ".py",
   "mimetype": "text/x-python",
   "name": "python",
   "nbconvert_exporter": "python",
   "pygments_lexer": "ipython3",
   "version": "3.11.8"
  }
 },
 "nbformat": 4,
 "nbformat_minor": 5
}
